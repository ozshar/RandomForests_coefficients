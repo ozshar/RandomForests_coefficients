{
 "cells": [
  {
   "cell_type": "markdown",
   "metadata": {},
   "source": [
    "## Motivation  \n",
    "Quite often, ensemble models work considerably better than linear/logistic regession models.\n",
    "\n",
    "However, while linear models provide a coefficient for each variable ,that can be easily translated to it's effect on the explained variable direction (i.e. - negative/positive coefficient suggests negative/positive correlation with the explained variable,respectively), ensemble models doesn't provide this type of information.\n",
    "\n",
    "That's because trees can result different splits for the same variable - some can have positive (value larger than split point leads to higher outcome value) and others negative effect in different estimators (trees).\n",
    "\n",
    "Thus, proposed here a new method. The method is applied on Random Forest model and provides the average effect on the outcome - the more negative/positive the resulted value, the more the negative/positive effect on the explained variable (the Outcome)."
   ]
  },
  {
   "cell_type": "code",
   "execution_count": 1,
   "metadata": {},
   "outputs": [],
   "source": [
    "import pandas as pd\n",
    "import numpy as np\n",
    "import matplotlib.pyplot as plt"
   ]
  },
  {
   "cell_type": "markdown",
   "metadata": {},
   "source": [
    "#### Directions function"
   ]
  },
  {
   "cell_type": "code",
   "execution_count": 2,
   "metadata": {},
   "outputs": [],
   "source": [
    "def get_directions(orig_table_,outcome,model,n_sample):\n",
    "    from collections import defaultdict\n",
    "    \n",
    "    X_test = orig_table_.drop(outcome,1).sample(n_sample) # Select N samples from the data\n",
    "    orig_table = orig_table_.copy()  # Define the original Data frame:          \n",
    "\n",
    "    # Get features names , as in the original Data Frame:\n",
    "    feature_names = pd.Series(orig_table_.drop(outcome,1).columns)\n",
    "    feature_names[-2] = None\n",
    "\n",
    "    # Initialize dictionary, for each possible direction\n",
    "    dict_signs = defaultdict(dict)\n",
    "    for col in X_test.columns: \n",
    "        dict_signs[col][\"<=\"] = []\n",
    "        dict_signs[col][\">\"] = []\n",
    "        \n",
    "    for i,estimator in enumerate(model.estimators_): # For each tree in Forest\n",
    "        leave_id = estimator.apply(X_test)\n",
    "        # Take only one sample from each leaf. After calculating the delta contribution, multiply it by total samples number \n",
    "        mm = pd.Series(estimator.apply(X_test)).reset_index(name='leaf').groupby('leaf')['index'].agg({'f' : 'first','s':'size'})\n",
    "        for ind, sample_id in enumerate(mm['f']):  # For each of the selected samples\n",
    "            xt = orig_table.drop(outcome,1) \n",
    "            \n",
    "            feature = estimator.tree_.feature\n",
    "            threshold = estimator.tree_.threshold\n",
    "            node_indicator = estimator.decision_path(X_test)\n",
    "            \n",
    "\n",
    "            # Get the nodes list of the given sample's path:\n",
    "            node_index = node_indicator.indices[node_indicator.indptr[sample_id]:\n",
    "                                                node_indicator.indptr[sample_id + 1]]\n",
    "\n",
    "            for node_id in node_index:\n",
    "                if leave_id[sample_id] == node_id:\n",
    "                    continue\n",
    "                # For each split, calculates mean of outcome at left (\"<=\") and right (\">\") children.\n",
    "                # Then , calculate: LEFT child's outcome mean outcome - previous mean & RIGHT child's outcome mean outcome - previous mean\n",
    "                prev_mean = orig_table.loc[xt.index,outcome].mean()\n",
    "        \n",
    "                if (X_test.iloc[sample_id, feature[node_id]] <= threshold[node_id]):\n",
    "                    threshold_sign = \"<=\"\n",
    "                    xt = xt[xt[feature_names[feature[node_id]]]<=threshold[node_id]]\n",
    "                else:\n",
    "                    threshold_sign = \">\"\n",
    "                    xt = xt[xt[feature_names[feature[node_id]]]>threshold[node_id]]\n",
    "                \n",
    "                new_mean = orig_table.loc[xt.index,outcome].mean()\n",
    "                \n",
    "                dict_signs[feature_names[feature[node_id]]][threshold_sign] += [new_mean - prev_mean]*mm.iloc[ind]['s']\n",
    "\n",
    "    directions = pd.DataFrame(dict_signs).T.apply(lambda x: x.apply(lambda y: np.mean(y))).dropna()\n",
    "    return  directions"
   ]
  },
  {
   "cell_type": "code",
   "execution_count": null,
   "metadata": {},
   "outputs": [],
   "source": []
  },
  {
   "cell_type": "code",
   "execution_count": 3,
   "metadata": {},
   "outputs": [],
   "source": [
    "f = pd.read_csv(\"diabetes.csv\")"
   ]
  },
  {
   "cell_type": "markdown",
   "metadata": {},
   "source": [
    "### Impute Zero values here: "
   ]
  },
  {
   "cell_type": "code",
   "execution_count": 4,
   "metadata": {},
   "outputs": [],
   "source": [
    "f_impute_zeros = f.copy()"
   ]
  },
  {
   "cell_type": "code",
   "execution_count": 5,
   "metadata": {},
   "outputs": [],
   "source": [
    "for col in ['BMI','SkinThickness','BloodPressure','Glucose']:\n",
    "    f_impute_zeros.loc[f_impute_zeros[col]==0,col] = f_impute_zeros.loc[f[col]>0,col].mean()\n",
    "    #f = f[f[col]>0]"
   ]
  },
  {
   "cell_type": "code",
   "execution_count": null,
   "metadata": {},
   "outputs": [],
   "source": []
  },
  {
   "cell_type": "code",
   "execution_count": 6,
   "metadata": {},
   "outputs": [],
   "source": [
    "from sklearn import linear_model\n",
    "from sklearn import ensemble\n",
    "from sklearn import naive_bayes\n",
    "from sklearn.model_selection import train_test_split\n",
    "from sklearn.metrics import roc_auc_score\n",
    "from sklearn.metrics import confusion_matrix\n",
    "from sklearn.metrics import average_precision_score"
   ]
  },
  {
   "cell_type": "markdown",
   "metadata": {},
   "source": [
    "### Run \"Rough\" RandomForest model:"
   ]
  },
  {
   "cell_type": "code",
   "execution_count": null,
   "metadata": {},
   "outputs": [],
   "source": []
  },
  {
   "cell_type": "code",
   "execution_count": 7,
   "metadata": {},
   "outputs": [
    {
     "name": "stdout",
     "output_type": "stream",
     "text": [
      "0.8125\n",
      "0.8970671641791045\n"
     ]
    }
   ],
   "source": [
    "model=ensemble.RandomForestClassifier(min_samples_leaf=15,max_depth = 5,n_estimators=25)\n",
    "outcome = 'Outcome'\n",
    "\n",
    "model.fit(f_impute_zeros.drop(outcome,1),f_impute_zeros[outcome])\n",
    "print (model.score(f_impute_zeros.drop(outcome,1),f_impute_zeros[outcome]))\n",
    "print (roc_auc_score(f_impute_zeros[outcome] , model.predict_proba(f_impute_zeros.drop(outcome,1))[:,1]))"
   ]
  },
  {
   "cell_type": "markdown",
   "metadata": {},
   "source": [
    "### Directions"
   ]
  },
  {
   "cell_type": "code",
   "execution_count": 8,
   "metadata": {},
   "outputs": [],
   "source": [
    "%%capture\n",
    "directions = get_directions(orig_table_=f_impute_zeros.copy(),n_sample=150,outcome='Outcome',model=model)"
   ]
  },
  {
   "cell_type": "code",
   "execution_count": 9,
   "metadata": {},
   "outputs": [
    {
     "data": {
      "text/html": [
       "<style  type=\"text/css\" >\n",
       "    #T_819ed160_9bf4_11e9_b7bf_28c63f68a21drow0_col0 {\n",
       "            color:  red;\n",
       "        }    #T_819ed160_9bf4_11e9_b7bf_28c63f68a21drow0_col1 {\n",
       "            color:  green;\n",
       "        }    #T_819ed160_9bf4_11e9_b7bf_28c63f68a21drow1_col0 {\n",
       "            color:  red;\n",
       "        }    #T_819ed160_9bf4_11e9_b7bf_28c63f68a21drow1_col1 {\n",
       "            color:  green;\n",
       "        }    #T_819ed160_9bf4_11e9_b7bf_28c63f68a21drow2_col0 {\n",
       "            color:  red;\n",
       "        }    #T_819ed160_9bf4_11e9_b7bf_28c63f68a21drow2_col1 {\n",
       "            color:  green;\n",
       "        }    #T_819ed160_9bf4_11e9_b7bf_28c63f68a21drow3_col0 {\n",
       "            color:  red;\n",
       "        }    #T_819ed160_9bf4_11e9_b7bf_28c63f68a21drow3_col1 {\n",
       "            color:  green;\n",
       "        }    #T_819ed160_9bf4_11e9_b7bf_28c63f68a21drow4_col0 {\n",
       "            color:  red;\n",
       "        }    #T_819ed160_9bf4_11e9_b7bf_28c63f68a21drow4_col1 {\n",
       "            color:  green;\n",
       "        }    #T_819ed160_9bf4_11e9_b7bf_28c63f68a21drow5_col0 {\n",
       "            color:  red;\n",
       "        }    #T_819ed160_9bf4_11e9_b7bf_28c63f68a21drow5_col1 {\n",
       "            color:  green;\n",
       "        }    #T_819ed160_9bf4_11e9_b7bf_28c63f68a21drow6_col0 {\n",
       "            color:  red;\n",
       "        }    #T_819ed160_9bf4_11e9_b7bf_28c63f68a21drow6_col1 {\n",
       "            color:  green;\n",
       "        }    #T_819ed160_9bf4_11e9_b7bf_28c63f68a21drow7_col0 {\n",
       "            color:  red;\n",
       "        }    #T_819ed160_9bf4_11e9_b7bf_28c63f68a21drow7_col1 {\n",
       "            color:  green;\n",
       "        }</style><table id=\"T_819ed160_9bf4_11e9_b7bf_28c63f68a21d\" ><thead>    <tr>        <th class=\"blank level0\" ></th>        <th class=\"col_heading level0 col0\" ><=</th>        <th class=\"col_heading level0 col1\" >></th>    </tr></thead><tbody>\n",
       "                <tr>\n",
       "                        <th id=\"T_819ed160_9bf4_11e9_b7bf_28c63f68a21dlevel0_row0\" class=\"row_heading level0 row0\" >Pregnancies</th>\n",
       "                        <td id=\"T_819ed160_9bf4_11e9_b7bf_28c63f68a21drow0_col0\" class=\"data row0 col0\" >-0.0440505</td>\n",
       "                        <td id=\"T_819ed160_9bf4_11e9_b7bf_28c63f68a21drow0_col1\" class=\"data row0 col1\" >0.0754404</td>\n",
       "            </tr>\n",
       "            <tr>\n",
       "                        <th id=\"T_819ed160_9bf4_11e9_b7bf_28c63f68a21dlevel0_row1\" class=\"row_heading level0 row1\" >Glucose</th>\n",
       "                        <td id=\"T_819ed160_9bf4_11e9_b7bf_28c63f68a21drow1_col0\" class=\"data row1 col0\" >-0.118458</td>\n",
       "                        <td id=\"T_819ed160_9bf4_11e9_b7bf_28c63f68a21drow1_col1\" class=\"data row1 col1\" >0.215452</td>\n",
       "            </tr>\n",
       "            <tr>\n",
       "                        <th id=\"T_819ed160_9bf4_11e9_b7bf_28c63f68a21dlevel0_row2\" class=\"row_heading level0 row2\" >BloodPressure</th>\n",
       "                        <td id=\"T_819ed160_9bf4_11e9_b7bf_28c63f68a21drow2_col0\" class=\"data row2 col0\" >-0.0163286</td>\n",
       "                        <td id=\"T_819ed160_9bf4_11e9_b7bf_28c63f68a21drow2_col1\" class=\"data row2 col1\" >0.0183101</td>\n",
       "            </tr>\n",
       "            <tr>\n",
       "                        <th id=\"T_819ed160_9bf4_11e9_b7bf_28c63f68a21dlevel0_row3\" class=\"row_heading level0 row3\" >SkinThickness</th>\n",
       "                        <td id=\"T_819ed160_9bf4_11e9_b7bf_28c63f68a21drow3_col0\" class=\"data row3 col0\" >-0.0681764</td>\n",
       "                        <td id=\"T_819ed160_9bf4_11e9_b7bf_28c63f68a21drow3_col1\" class=\"data row3 col1\" >0.0481699</td>\n",
       "            </tr>\n",
       "            <tr>\n",
       "                        <th id=\"T_819ed160_9bf4_11e9_b7bf_28c63f68a21dlevel0_row4\" class=\"row_heading level0 row4\" >Insulin</th>\n",
       "                        <td id=\"T_819ed160_9bf4_11e9_b7bf_28c63f68a21drow4_col0\" class=\"data row4 col0\" >-0.030335</td>\n",
       "                        <td id=\"T_819ed160_9bf4_11e9_b7bf_28c63f68a21drow4_col1\" class=\"data row4 col1\" >0.0636793</td>\n",
       "            </tr>\n",
       "            <tr>\n",
       "                        <th id=\"T_819ed160_9bf4_11e9_b7bf_28c63f68a21dlevel0_row5\" class=\"row_heading level0 row5\" >BMI</th>\n",
       "                        <td id=\"T_819ed160_9bf4_11e9_b7bf_28c63f68a21drow5_col0\" class=\"data row5 col0\" >-0.142847</td>\n",
       "                        <td id=\"T_819ed160_9bf4_11e9_b7bf_28c63f68a21drow5_col1\" class=\"data row5 col1\" >0.0838707</td>\n",
       "            </tr>\n",
       "            <tr>\n",
       "                        <th id=\"T_819ed160_9bf4_11e9_b7bf_28c63f68a21dlevel0_row6\" class=\"row_heading level0 row6\" >DiabetesPedigreeFunction</th>\n",
       "                        <td id=\"T_819ed160_9bf4_11e9_b7bf_28c63f68a21drow6_col0\" class=\"data row6 col0\" >-0.0557683</td>\n",
       "                        <td id=\"T_819ed160_9bf4_11e9_b7bf_28c63f68a21drow6_col1\" class=\"data row6 col1\" >0.0812604</td>\n",
       "            </tr>\n",
       "            <tr>\n",
       "                        <th id=\"T_819ed160_9bf4_11e9_b7bf_28c63f68a21dlevel0_row7\" class=\"row_heading level0 row7\" >Age</th>\n",
       "                        <td id=\"T_819ed160_9bf4_11e9_b7bf_28c63f68a21drow7_col0\" class=\"data row7 col0\" >-0.0940081</td>\n",
       "                        <td id=\"T_819ed160_9bf4_11e9_b7bf_28c63f68a21drow7_col1\" class=\"data row7 col1\" >0.10286</td>\n",
       "            </tr>\n",
       "    </tbody></table>"
      ],
      "text/plain": [
       "<pandas.io.formats.style.Styler at 0x7f29c053a780>"
      ]
     },
     "execution_count": 9,
     "metadata": {},
     "output_type": "execute_result"
    }
   ],
   "source": [
    "directions.style.applymap(lambda x: 'color: red' if x<0 else  'color: green' )"
   ]
  },
  {
   "cell_type": "markdown",
   "metadata": {},
   "source": [
    "Finally, substract the '<=' direction  from '>' direction. For example, Glucose variable has strong positive/negative effect on the outcome when following a path towards higher/lower Glucose values. Hence, **Their subtraction will provide stronger estimate for the effect of each variable on the outcome's direction**"
   ]
  },
  {
   "cell_type": "code",
   "execution_count": 10,
   "metadata": {},
   "outputs": [
    {
     "data": {
      "text/plain": [
       "Pregnancies                 0.119491\n",
       "Glucose                     0.333910\n",
       "BloodPressure               0.034639\n",
       "SkinThickness               0.116346\n",
       "Insulin                     0.094014\n",
       "BMI                         0.226718\n",
       "DiabetesPedigreeFunction    0.137029\n",
       "Age                         0.196868\n",
       "Name: >, dtype: float64"
      ]
     },
     "execution_count": 10,
     "metadata": {},
     "output_type": "execute_result"
    }
   ],
   "source": [
    "directions.T.diff().iloc[1]"
   ]
  },
  {
   "cell_type": "code",
   "execution_count": null,
   "metadata": {},
   "outputs": [],
   "source": []
  },
  {
   "cell_type": "code",
   "execution_count": null,
   "metadata": {},
   "outputs": [],
   "source": []
  },
  {
   "cell_type": "markdown",
   "metadata": {},
   "source": [
    "#### Compare directions with simple-splits (how much >/<= values correlated with 0/1)"
   ]
  },
  {
   "cell_type": "code",
   "execution_count": 11,
   "metadata": {},
   "outputs": [
    {
     "data": {
      "image/png": "[encoded data removed]",
      "text/plain": [
       "<Figure size 432x288 with 1 Axes>"
      ]
     },
     "metadata": {
      "needs_background": "light"
     },
     "output_type": "display_data"
    },
    {
     "data": {
      "text/html": [
       "<div>\n",
       "<style scoped>\n",
       "    .dataframe tbody tr th:only-of-type {\n",
       "        vertical-align: middle;\n",
       "    }\n",
       "\n",
       "    .dataframe tbody tr th {\n",
       "        vertical-align: top;\n",
       "    }\n",
       "\n",
       "    .dataframe thead th {\n",
       "        text-align: right;\n",
       "    }\n",
       "</style>\n",
       "<table border=\"1\" class=\"dataframe\">\n",
       "  <thead>\n",
       "    <tr style=\"text-align: right;\">\n",
       "      <th></th>\n",
       "      <th>l1</th>\n",
       "      <th>l2</th>\n",
       "    </tr>\n",
       "  </thead>\n",
       "  <tbody>\n",
       "    <tr>\n",
       "      <th>l1</th>\n",
       "      <td>1.00000</td>\n",
       "      <td>0.92364</td>\n",
       "    </tr>\n",
       "    <tr>\n",
       "      <th>l2</th>\n",
       "      <td>0.92364</td>\n",
       "      <td>1.00000</td>\n",
       "    </tr>\n",
       "  </tbody>\n",
       "</table>\n",
       "</div>"
      ],
      "text/plain": [
       "         l1       l2\n",
       "l1  1.00000  0.92364\n",
       "l2  0.92364  1.00000"
      ]
     },
     "execution_count": 11,
     "metadata": {},
     "output_type": "execute_result"
    }
   ],
   "source": [
    "l1= f_impute_zeros.corr()[outcome] \n",
    "l2= directions.T.diff().iloc[1]\n",
    "ll = l1.reset_index(name='l1').set_index('index')\n",
    "ll['l2'] = l2\n",
    "plt.scatter(ll['l1'],ll['l2'])\n",
    "plt.show()\n",
    "ll.corr()"
   ]
  },
  {
   "cell_type": "markdown",
   "metadata": {},
   "source": [
    "### All variables came fairly positive, which means - as value goes higher, it tends to correlate with higher outcome values"
   ]
  },
  {
   "cell_type": "code",
   "execution_count": null,
   "metadata": {},
   "outputs": [],
   "source": []
  },
  {
   "cell_type": "markdown",
   "metadata": {},
   "source": [
    "### Now, let's compare with logistic regression, which provides explicit coefficients:"
   ]
  },
  {
   "cell_type": "code",
   "execution_count": 12,
   "metadata": {},
   "outputs": [],
   "source": [
    "from sklearn.preprocessing import StandardScaler\n",
    "from sklearn.pipeline import make_pipeline"
   ]
  },
  {
   "cell_type": "code",
   "execution_count": 13,
   "metadata": {},
   "outputs": [],
   "source": [
    "# We'll standadize variables in order to get meaningful coefficients: \n",
    "model = make_pipeline(StandardScaler(), linear_model.LogisticRegression())"
   ]
  },
  {
   "cell_type": "code",
   "execution_count": 14,
   "metadata": {},
   "outputs": [
    {
     "name": "stdout",
     "output_type": "stream",
     "text": [
      "0.7760416666666666\n",
      "0.8463134328358208\n"
     ]
    },
    {
     "name": "stderr",
     "output_type": "stream",
     "text": [
      "/home/oz/.local/lib/python3.6/site-packages/sklearn/linear_model/logistic.py:432: FutureWarning: Default solver will be changed to 'lbfgs' in 0.22. Specify a solver to silence this warning.\n",
      "  FutureWarning)\n"
     ]
    }
   ],
   "source": [
    "outcome = 'Outcome'\n",
    "\n",
    "model.fit(f_impute_zeros.drop(outcome,1),f_impute_zeros[outcome])\n",
    "print (model.score(f_impute_zeros.drop(outcome,1),f_impute_zeros[outcome]))\n",
    "print (roc_auc_score(f_impute_zeros[outcome] , model.predict_proba(f_impute_zeros.drop(outcome,1))[:,1]))"
   ]
  },
  {
   "cell_type": "code",
   "execution_count": 15,
   "metadata": {},
   "outputs": [
    {
     "data": {
      "image/png": "[encoded data removed]",
      "text/plain": [
       "<Figure size 432x288 with 1 Axes>"
      ]
     },
     "metadata": {
      "needs_background": "light"
     },
     "output_type": "display_data"
    }
   ],
   "source": [
    "pd.Series(index=f_impute_zeros.drop(outcome,1).columns, data=model.steps[1][1].coef_[0]).plot(kind = 'bar')\n",
    "plt.title('Variables coefficients - Logistic regression')\n",
    "plt.show()"
   ]
  },
  {
   "cell_type": "markdown",
   "metadata": {},
   "source": [
    "### Now, let's compare the \"direction score\" of random forest Vs logistic regression coefficients: "
   ]
  },
  {
   "cell_type": "code",
   "execution_count": 16,
   "metadata": {},
   "outputs": [
    {
     "data": {
      "text/plain": [
       "<matplotlib.collections.PathCollection at 0x7f29af9a2550>"
      ]
     },
     "execution_count": 16,
     "metadata": {},
     "output_type": "execute_result"
    },
    {
     "data": {
      "image/png": "[encoded data removed]",
      "text/plain": [
       "<Figure size 432x288 with 1 Axes>"
      ]
     },
     "metadata": {
      "needs_background": "light"
     },
     "output_type": "display_data"
    }
   ],
   "source": [
    "plt.scatter(directions.T.diff().iloc[1], model.steps[1][1].coef_[0])"
   ]
  },
  {
   "cell_type": "code",
   "execution_count": 17,
   "metadata": {},
   "outputs": [
    {
     "data": {
      "text/html": [
       "<div>\n",
       "<style scoped>\n",
       "    .dataframe tbody tr th:only-of-type {\n",
       "        vertical-align: middle;\n",
       "    }\n",
       "\n",
       "    .dataframe tbody tr th {\n",
       "        vertical-align: top;\n",
       "    }\n",
       "\n",
       "    .dataframe thead th {\n",
       "        text-align: right;\n",
       "    }\n",
       "</style>\n",
       "<table border=\"1\" class=\"dataframe\">\n",
       "  <thead>\n",
       "    <tr style=\"text-align: right;\">\n",
       "      <th></th>\n",
       "      <th>&gt;</th>\n",
       "      <th>0</th>\n",
       "    </tr>\n",
       "  </thead>\n",
       "  <tbody>\n",
       "    <tr>\n",
       "      <th>&gt;</th>\n",
       "      <td>1.000000</td>\n",
       "      <td>0.899041</td>\n",
       "    </tr>\n",
       "    <tr>\n",
       "      <th>0</th>\n",
       "      <td>0.899041</td>\n",
       "      <td>1.000000</td>\n",
       "    </tr>\n",
       "  </tbody>\n",
       "</table>\n",
       "</div>"
      ],
      "text/plain": [
       "          >         0\n",
       ">  1.000000  0.899041\n",
       "0  0.899041  1.000000"
      ]
     },
     "execution_count": 17,
     "metadata": {},
     "output_type": "execute_result"
    }
   ],
   "source": [
    "pd.Series(index=directions.T.diff().iloc[1], data=model.steps[1][1].coef_[0]).reset_index().corr()"
   ]
  },
  {
   "cell_type": "code",
   "execution_count": null,
   "metadata": {},
   "outputs": [],
   "source": []
  },
  {
   "cell_type": "code",
   "execution_count": 18,
   "metadata": {},
   "outputs": [
    {
     "data": {
      "text/html": [
       "<div>\n",
       "<style scoped>\n",
       "    .dataframe tbody tr th:only-of-type {\n",
       "        vertical-align: middle;\n",
       "    }\n",
       "\n",
       "    .dataframe tbody tr th {\n",
       "        vertical-align: top;\n",
       "    }\n",
       "\n",
       "    .dataframe thead th {\n",
       "        text-align: right;\n",
       "    }\n",
       "</style>\n",
       "<table border=\"1\" class=\"dataframe\">\n",
       "  <thead>\n",
       "    <tr style=\"text-align: right;\">\n",
       "      <th></th>\n",
       "      <th>l1</th>\n",
       "      <th>l2</th>\n",
       "      <th>logreg</th>\n",
       "    </tr>\n",
       "  </thead>\n",
       "  <tbody>\n",
       "    <tr>\n",
       "      <th>l1</th>\n",
       "      <td>1.000000</td>\n",
       "      <td>0.923640</td>\n",
       "      <td>0.931709</td>\n",
       "    </tr>\n",
       "    <tr>\n",
       "      <th>l2</th>\n",
       "      <td>0.923640</td>\n",
       "      <td>1.000000</td>\n",
       "      <td>0.899041</td>\n",
       "    </tr>\n",
       "    <tr>\n",
       "      <th>logreg</th>\n",
       "      <td>0.931709</td>\n",
       "      <td>0.899041</td>\n",
       "      <td>1.000000</td>\n",
       "    </tr>\n",
       "  </tbody>\n",
       "</table>\n",
       "</div>"
      ],
      "text/plain": [
       "              l1        l2    logreg\n",
       "l1      1.000000  0.923640  0.931709\n",
       "l2      0.923640  1.000000  0.899041\n",
       "logreg  0.931709  0.899041  1.000000"
      ]
     },
     "execution_count": 18,
     "metadata": {},
     "output_type": "execute_result"
    }
   ],
   "source": [
    "ll =ll.drop(outcome)\n",
    "ll['logreg'] = pd.Series(index=f_impute_zeros.drop(outcome,1).columns,data=model.steps[1][1].coef_[0])\n",
    "ll.corr()"
   ]
  },
  {
   "cell_type": "markdown",
   "metadata": {},
   "source": [
    "#### Fiarly correlated !"
   ]
  },
  {
   "cell_type": "markdown",
   "metadata": {},
   "source": [
    "## Conclusions:\n",
    "* We aimed to find a method that can produce equivalent to variables coefficients in logistic/linear regression\n",
    "* For each variable, the suggested method maps the effect of each split on the outcome (higher/lower enrichment of the outcome)\n",
    "* The method was applied on diabetes dataset and compared with logistic regression coefficients.\n",
    "* Interestingly, the method was very correlated with the coefficients achieved by loistic regression. This implies for fairly linear correlations between the variables and the outcome. However, in cases of non-linear relations, it is expected that randomforests will produce very different results and will help to provide additional insights that could not be achieved by the linear models."
   ]
  }
 ],
 "metadata": {
  "kernelspec": {
   "display_name": "Python 3",
   "language": "python",
   "name": "python3"
  },
  "language_info": {
   "codemirror_mode": {
    "name": "ipython",
    "version": 3
   },
   "file_extension": ".py",
   "mimetype": "text/x-python",
   "name": "python",
   "nbconvert_exporter": "python",
   "pygments_lexer": "ipython3",
   "version": "3.6.5"
  }
 },
 "nbformat": 4,
 "nbformat_minor": 2
}
