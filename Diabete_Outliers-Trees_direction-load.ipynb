{
 "cells": [
  {
   "cell_type": "markdown",
   "metadata": {},
   "source": [
    "## Motivation  \n",
    "Quite often, ensemble models work considerably better than linear/logistic regession models.\n",
    "\n",
    "However, while linear models provide a coefficient for each variable ,that can be easily translated to it's effect on the explained variable direction (i.e. - negative/positive coefficient suggests negative/positive correlation with the explained variable,respectively), ensemble models doesn't provide this type of information.\n",
    "\n",
    "That's because trees can result different splits for the same variable - some can have positive (value larger than split point leads to higher outcome value) and others negative effect in different estimators (trees).\n",
    "\n",
    "Thus, proposed here a new method. The method is applied on Random Forest model and provides the average effect on the outcome - the more negative/positive the resulted value, the more the negative/positive effect on the explained variable (the Outcome)."
   ]
  },
  {
   "cell_type": "code",
   "execution_count": 1,
   "metadata": {},
   "outputs": [],
   "source": [
    "import pandas as pd\n",
    "import numpy as np\n",
    "import matplotlib.pyplot as plt"
   ]
  },
  {
   "cell_type": "markdown",
   "metadata": {},
   "source": [
    "#### Directions function"
   ]
  },
  {
   "cell_type": "code",
   "execution_count": 2,
   "metadata": {},
   "outputs": [],
   "source": [
    "def get_directions(orig_table_,outcome,model,n_sample):\n",
    "    from collections import defaultdict\n",
    "    \n",
    "    X_test = orig_table_.drop(outcome,1).sample(n_sample) # Select N samples from the data\n",
    "    orig_table = orig_table_.copy()  # Define the original Data frame:          \n",
    "\n",
    "    # Get features names , as in the original Data Frame:\n",
    "    feature_names = pd.Series(orig_table_.drop(outcome,1).columns)\n",
    "    feature_names[-2] = None\n",
    "\n",
    "    # Initialize dictionary, for each possible direction\n",
    "    dict_signs = defaultdict(dict)\n",
    "    for col in X_test.columns: \n",
    "        dict_signs[col][\"<=\"] = []\n",
    "        dict_signs[col][\">\"] = []\n",
    "        \n",
    "    for i,estimator in enumerate(model.estimators_): # For each tree in Forest\n",
    "        leave_id = estimator.apply(X_test)\n",
    "        # Take only one sample from each leaf. After calculating the delta contribution, multiply it by total samples number \n",
    "        mm = pd.Series(estimator.apply(X_test)).reset_index(name='leaf').groupby('leaf')['index'].agg({'f' : 'first','s':'size'})\n",
    "        for ind, sample_id in enumerate(mm['f']):  # For each of the selected samples\n",
    "            xt = orig_table.drop(outcome,1) \n",
    "            \n",
    "            feature = estimator.tree_.feature\n",
    "            threshold = estimator.tree_.threshold\n",
    "            node_indicator = estimator.decision_path(X_test)\n",
    "            \n",
    "\n",
    "            # Get the nodes list of the given sample's path:\n",
    "            node_index = node_indicator.indices[node_indicator.indptr[sample_id]:\n",
    "                                                node_indicator.indptr[sample_id + 1]]\n",
    "\n",
    "            for node_id in node_index:\n",
    "                if leave_id[sample_id] == node_id:\n",
    "                    continue\n",
    "                # For each split, calculates mean of outcome at left (\"<=\") and right (\">\") children.\n",
    "                # Then , calculate: LEFT child's outcome mean outcome - previous mean & RIGHT child's outcome mean outcome - previous mean\n",
    "                prev_mean = orig_table.loc[xt.index,outcome].mean()\n",
    "        \n",
    "                if (X_test.iloc[sample_id, feature[node_id]] <= threshold[node_id]):\n",
    "                    threshold_sign = \"<=\"\n",
    "                    xt = xt[xt[feature_names[feature[node_id]]]<=threshold[node_id]]\n",
    "                else:\n",
    "                    threshold_sign = \">\"\n",
    "                    xt = xt[xt[feature_names[feature[node_id]]]>threshold[node_id]]\n",
    "                \n",
    "                new_mean = orig_table.loc[xt.index,outcome].mean()\n",
    "                \n",
    "                dict_signs[feature_names[feature[node_id]]][threshold_sign] += [new_mean - prev_mean]*mm.iloc[ind]['s']\n",
    "\n",
    "    directions = pd.DataFrame(dict_signs).T.apply(lambda x: x.apply(lambda y: np.mean(y))).dropna()\n",
    "    return  directions"
   ]
  },
  {
   "cell_type": "code",
   "execution_count": null,
   "metadata": {},
   "outputs": [],
   "source": []
  },
  {
   "cell_type": "code",
   "execution_count": 3,
   "metadata": {},
   "outputs": [],
   "source": [
    "f = pd.read_csv(\"diabetes.csv\")"
   ]
  },
  {
   "cell_type": "markdown",
   "metadata": {},
   "source": [
    "### Impute Zero values here: "
   ]
  },
  {
   "cell_type": "code",
   "execution_count": 4,
   "metadata": {},
   "outputs": [],
   "source": [
    "f_impute_zeros = f.copy()"
   ]
  },
  {
   "cell_type": "code",
   "execution_count": 5,
   "metadata": {},
   "outputs": [],
   "source": [
    "for col in ['BMI','SkinThickness','BloodPressure','Glucose']:\n",
    "    f_impute_zeros.loc[f_impute_zeros[col]==0,col] = f_impute_zeros.loc[f[col]>0,col].mean()\n",
    "    #f = f[f[col]>0]"
   ]
  },
  {
   "cell_type": "code",
   "execution_count": null,
   "metadata": {},
   "outputs": [],
   "source": []
  },
  {
   "cell_type": "code",
   "execution_count": 6,
   "metadata": {},
   "outputs": [],
   "source": [
    "from sklearn import linear_model\n",
    "from sklearn import ensemble\n",
    "from sklearn import naive_bayes\n",
    "from sklearn.model_selection import train_test_split\n",
    "from sklearn.metrics import roc_auc_score\n",
    "from sklearn.metrics import confusion_matrix\n",
    "from sklearn.metrics import average_precision_score"
   ]
  },
  {
   "cell_type": "markdown",
   "metadata": {},
   "source": [
    "### Run \"Rough\" RandomForest model:"
   ]
  },
  {
   "cell_type": "code",
   "execution_count": null,
   "metadata": {},
   "outputs": [],
   "source": []
  },
  {
   "cell_type": "code",
   "execution_count": 7,
   "metadata": {},
   "outputs": [
    {
     "name": "stdout",
     "output_type": "stream",
     "text": [
      "0.8033854166666666\n",
      "0.8879776119402986\n"
     ]
    }
   ],
   "source": [
    "model=ensemble.RandomForestClassifier(min_samples_leaf=15,max_depth = 5,n_estimators=25)\n",
    "outcome = 'Outcome'\n",
    "\n",
    "model.fit(f_impute_zeros.drop(outcome,1),f_impute_zeros[outcome])\n",
    "print (model.score(f_impute_zeros.drop(outcome,1),f_impute_zeros[outcome]))\n",
    "print (roc_auc_score(f_impute_zeros[outcome] , model.predict_proba(f_impute_zeros.drop(outcome,1))[:,1]))"
   ]
  },
  {
   "cell_type": "markdown",
   "metadata": {},
   "source": [
    "## Following decision path for each sample\n",
    "The script below follows Random Forest's [Decision pathway](https://scikit-learn.org/stable/auto_examples/tree/plot_unveil_tree_structure.html).\n",
    "\n",
    "* Sample 150 samples which were modeled\n",
    "* Follow the path for each sample, at each tree: \n",
    "    * Collect all splits conditions along the paths. \n",
    " \n",
    "* Divide the samples to class 1 and class 0.\n",
    "* Get the mean values of '<=' splits and '>' splits - for each feature.\n",
    "\n"
   ]
  },
  {
   "cell_type": "code",
   "execution_count": null,
   "metadata": {},
   "outputs": [],
   "source": []
  },
  {
   "cell_type": "code",
   "execution_count": 8,
   "metadata": {},
   "outputs": [],
   "source": [
    "from collections import defaultdict\n",
    "\n",
    "X_t = f_impute_zeros.sample(150) # Select 150 samples from the data\n",
    "X_test = X_t.drop(outcome,1)\n",
    "orig_table = f_impute_zeros.copy() # Define original table\n",
    "outcome = 'Outcome'  # Define outcome \n",
    "\n",
    "feature_names = pd.Series(f_impute_zeros.drop(outcome,1).columns)\n",
    "feature_names[-2] = None\n",
    "\n",
    "\n",
    "dict_paths = {}\n",
    "    \n",
    "    \n",
    "for sample_id in range(len(X_test)):  # For each of the selected samples\n",
    "    dict_path_trees  = defaultdict(list)\n",
    "    for i,estimator in enumerate(model.estimators_): # For each tree in Forest\n",
    "        xt = orig_table.drop(outcome,1) \n",
    "\n",
    "        feature = estimator.tree_.feature\n",
    "        threshold = estimator.tree_.threshold\n",
    "        node_indicator = estimator.decision_path(X_test)\n",
    "\n",
    "        # Similarly, we can also have the leaves ids reached by each sample.\n",
    "\n",
    "        leave_id = estimator.apply(X_test)\n",
    "\n",
    "        # Now, it's possible to get the tests that were used to predict a sample or\n",
    "        # a group of samples. First, let's make it for the sample.\n",
    "\n",
    "        node_index = node_indicator.indices[node_indicator.indptr[sample_id]:\n",
    "                                            node_indicator.indptr[sample_id + 1]]\n",
    "        dict_path_tree  = defaultdict(list)\n",
    "        #print('\\n\\n',sample_id,i)\n",
    "        for node_id in node_index:\n",
    "            if leave_id[sample_id] == node_id:\n",
    "                continue\n",
    "\n",
    "            if (X_test.iloc[sample_id, feature[node_id]] <= threshold[node_id]):\n",
    "                threshold_sign = \"<=\"\n",
    "            else:\n",
    "                threshold_sign = \">\"\n",
    "            #print (feature_names[feature[node_id]]+threshold_sign+str(threshold[node_id]))\n",
    "            dict_path_tree[feature_names[feature[node_id]]+threshold_sign]+=[threshold[node_id]]\n",
    "        for k,v in dict_path_tree.items():\n",
    "            dict_path_trees[k]+=v\n",
    "    dict_paths[sample_id] = dict_path_trees"
   ]
  },
  {
   "cell_type": "code",
   "execution_count": 9,
   "metadata": {
    "scrolled": true
   },
   "outputs": [
    {
     "data": {
      "image/png": "[encoded data removed]",
      "text/plain": [
       "<Figure size 432x288 with 1 Axes>"
      ]
     },
     "metadata": {
      "needs_background": "light"
     },
     "output_type": "display_data"
    },
    {
     "data": {
      "image/png": "[encoded data removed]",
      "text/plain": [
       "<Figure size 432x288 with 1 Axes>"
      ]
     },
     "metadata": {
      "needs_background": "light"
     },
     "output_type": "display_data"
    },
    {
     "data": {
      "image/png": "[encoded data removed]",
      "text/plain": [
       "<Figure size 432x288 with 1 Axes>"
      ]
     },
     "metadata": {
      "needs_background": "light"
     },
     "output_type": "display_data"
    },
    {
     "data": {
      "image/png": "[encoded data removed]",
      "text/plain": [
       "<Figure size 432x288 with 1 Axes>"
      ]
     },
     "metadata": {
      "needs_background": "light"
     },
     "output_type": "display_data"
    },
    {
     "data": {
      "image/png": "[encoded data removed]",
      "text/plain": [
       "<Figure size 432x288 with 1 Axes>"
      ]
     },
     "metadata": {
      "needs_background": "light"
     },
     "output_type": "display_data"
    },
    {
     "data": {
      "image/png": "[encoded data removed]",
      "text/plain": [
       "<Figure size 432x288 with 1 Axes>"
      ]
     },
     "metadata": {
      "needs_background": "light"
     },
     "output_type": "display_data"
    },
    {
     "data": {
      "image/png": "[encoded data removed]",
      "text/plain": [
       "<Figure size 432x288 with 1 Axes>"
      ]
     },
     "metadata": {
      "needs_background": "light"
     },
     "output_type": "display_data"
    },
    {
     "data": {
      "image/png": "[encoded data removed]",
      "text/plain": [
       "<Figure size 432x288 with 1 Axes>"
      ]
     },
     "metadata": {
      "needs_background": "light"
     },
     "output_type": "display_data"
    },
    {
     "data": {
      "image/png": "[encoded data removed]",
      "text/plain": [
       "<Figure size 432x288 with 1 Axes>"
      ]
     },
     "metadata": {
      "needs_background": "light"
     },
     "output_type": "display_data"
    },
    {
     "data": {
      "image/png": "[encoded data removed]",
      "text/plain": [
       "<Figure size 432x288 with 1 Axes>"
      ]
     },
     "metadata": {
      "needs_background": "light"
     },
     "output_type": "display_data"
    },
    {
     "data": {
      "image/png": "[encoded data removed]",
      "text/plain": [
       "<Figure size 432x288 with 1 Axes>"
      ]
     },
     "metadata": {
      "needs_background": "light"
     },
     "output_type": "display_data"
    },
    {
     "data": {
      "text/plain": [
       "2     None\n",
       "3     None\n",
       "10    None\n",
       "6     None\n",
       "1     None\n",
       "5     None\n",
       "4     None\n",
       "7     None\n",
       "8     None\n",
       "9     None\n",
       "0     None\n",
       "dtype: object"
      ]
     },
     "execution_count": 9,
     "metadata": {},
     "output_type": "execute_result"
    }
   ],
   "source": [
    "# Test for one value\n",
    "def plt_hist(x,nam):\n",
    "    plt.hist(x)\n",
    "    plt.title(nam)\n",
    "    plt.show()\n",
    "pd.Series(dict_paths[0]).reset_index().sort_values('index').apply(lambda x: plt_hist(x[0],x['index']),axis=1)"
   ]
  },
  {
   "cell_type": "markdown",
   "metadata": {},
   "source": [
    "#### In some cases, there's only '>' or '<=' , i.e. no upper/lower limit. This can explain why , for example , Age variable can have quite similar splits for '>' and '<=' : \n",
    "#### Additionally, in other cases, like in BloodPressure (samples 1-3), ranges for each sample are quite small and specific. Also here, unifying all the samples will not provide great value."
   ]
  },
  {
   "cell_type": "code",
   "execution_count": null,
   "metadata": {},
   "outputs": [],
   "source": []
  },
  {
   "cell_type": "markdown",
   "metadata": {},
   "source": [
    "### Summary profile of 1 outcome Vs 0 outcome:"
   ]
  },
  {
   "cell_type": "code",
   "execution_count": 10,
   "metadata": {},
   "outputs": [],
   "source": [
    "xt = X_t.reset_index()\n",
    "one_indxs = xt[xt[outcome]==1].index"
   ]
  },
  {
   "cell_type": "code",
   "execution_count": 11,
   "metadata": {},
   "outputs": [],
   "source": [
    "dict_paths_ones = defaultdict(list)\n",
    "for x in one_indxs:\n",
    "    for k,vl in dict_paths[x].items():\n",
    "        dict_paths_ones[k]+=vl"
   ]
  },
  {
   "cell_type": "code",
   "execution_count": 12,
   "metadata": {},
   "outputs": [
    {
     "name": "stdout",
     "output_type": "stream",
     "text": [
      "mean 0: \n",
      " Age<=                          31.130285\n",
      "Age>                           29.088640\n",
      "BMI<=                          32.712821\n",
      "BMI>                           28.261683\n",
      "BloodPressure<=                78.713749\n",
      "BloodPressure>                 66.808500\n",
      "DiabetesPedigreeFunction<=      0.619301\n",
      "DiabetesPedigreeFunction>       0.465952\n",
      "Glucose<=                     133.329234\n",
      "Glucose>                      121.487426\n",
      "Insulin<=                     105.005155\n",
      "Insulin>                       83.392606\n",
      "Pregnancies<=                   5.425926\n",
      "Pregnancies>                    3.258454\n",
      "SkinThickness<=                27.698557\n",
      "SkinThickness>                 25.347828\n",
      "dtype: float64\n",
      "mean 1: \n",
      " Age<=                          35.322635\n",
      "Age>                           28.957411\n",
      "BMI<=                          36.288716\n",
      "BMI>                           28.780761\n",
      "BloodPressure<=                80.683483\n",
      "BloodPressure>                 71.586117\n",
      "DiabetesPedigreeFunction<=      0.636515\n",
      "DiabetesPedigreeFunction>       0.451863\n",
      "Glucose<=                     137.080000\n",
      "Glucose>                      128.762018\n",
      "Insulin<=                     103.564706\n",
      "Insulin>                      112.590054\n",
      "Pregnancies<=                   6.270053\n",
      "Pregnancies>                    4.600000\n",
      "SkinThickness<=                28.226133\n",
      "SkinThickness>                 25.979422\n",
      "dtype: float64\n"
     ]
    }
   ],
   "source": [
    "xt = X_t.reset_index()\n",
    "zero_indxs = xt[xt[outcome]==0].index\n",
    "\n",
    "\n",
    "dict_paths_zero = defaultdict(list)\n",
    "for x in zero_indxs:\n",
    "    for k,vl in dict_paths[x].items():\n",
    "        dict_paths_zero[k]+=vl\n",
    "        \n",
    "print ('mean 0: \\n',pd.Series(dict_paths_zero).apply(np.mean).sort_index())\n",
    "print ('mean 1: \\n',pd.Series(dict_paths_ones).apply(np.mean).sort_index())"
   ]
  },
  {
   "cell_type": "code",
   "execution_count": 13,
   "metadata": {},
   "outputs": [],
   "source": [
    "f_impute_zeros1 = f_impute_zeros.copy()"
   ]
  },
  {
   "cell_type": "markdown",
   "metadata": {},
   "source": [
    "## Segmentation by simple split:"
   ]
  },
  {
   "cell_type": "markdown",
   "metadata": {},
   "source": [
    "###### Make sure that variables are avilable : model , feature_names (df.columns), f_impute_zeros (original df)"
   ]
  },
  {
   "cell_type": "code",
   "execution_count": 14,
   "metadata": {},
   "outputs": [],
   "source": [
    "outcome = 'Outcome'"
   ]
  },
  {
   "cell_type": "code",
   "execution_count": 15,
   "metadata": {},
   "outputs": [
    {
     "data": {
      "text/plain": [
       "RandomForestClassifier(bootstrap=True, class_weight=None, criterion='gini',\n",
       "                       max_depth=5, max_features='auto', max_leaf_nodes=None,\n",
       "                       min_impurity_decrease=0.0, min_impurity_split=None,\n",
       "                       min_samples_leaf=15, min_samples_split=2,\n",
       "                       min_weight_fraction_leaf=0.0, n_estimators=25,\n",
       "                       n_jobs=None, oob_score=False, random_state=None,\n",
       "                       verbose=0, warm_start=False)"
      ]
     },
     "execution_count": 15,
     "metadata": {},
     "output_type": "execute_result"
    }
   ],
   "source": [
    "train,test = train_test_split(f_impute_zeros,test_size = 0.25)\n",
    "mymodel=ensemble.RandomForestClassifier(min_samples_leaf=15,max_depth = 5,n_estimators=25)\n",
    "mymodel.fit(train.drop(outcome,1),train[outcome])"
   ]
  },
  {
   "cell_type": "code",
   "execution_count": 16,
   "metadata": {},
   "outputs": [],
   "source": [
    "feature_names = pd.Series(train.drop(outcome,1).columns)\n",
    "f_impute_zeros = train\n",
    "model = mymodel"
   ]
  },
  {
   "cell_type": "code",
   "execution_count": 17,
   "metadata": {},
   "outputs": [],
   "source": [
    "feature_names[-2] = None\n",
    "\n",
    "all_splits = pd.DataFrame(index=feature_names)\n",
    "\n",
    "\n",
    "for i,tt in enumerate(model.estimators_):\n",
    "    pp = pd.DataFrame(index = ['feature','split_point'], data=[tt.tree_.feature,tt.tree_.threshold]).T\n",
    "    pp['feature_name'] = pp['feature'].map(feature_names)\n",
    "    pp['split_point'] = pp['split_point'].apply(lambda x: float(\"%.1f\" %x))\n",
    "    all_splits[i] = pp.groupby('feature_name').apply(lambda x: x.split_point.values)\n",
    "\n",
    "aa = all_splits.T.apply(lambda x: list(np.hstack(x.values)))    \n",
    "df_splits = pd.DataFrame(aa).T.apply(lambda x: pd.Series(x[0])).apply(lambda x: x.value_counts().to_dict())"
   ]
  },
  {
   "cell_type": "code",
   "execution_count": 18,
   "metadata": {},
   "outputs": [],
   "source": [
    "def get_splits(x):\n",
    "    x = pd.Series(x)\n",
    "    his = np.histogram(x.dropna())\n",
    "    h1 = pd.Series(index=his[0],data=his[1][1:].tolist()).reset_index().reset_index().sort_values('index',ascending = False)\n",
    "    \n",
    "    # Take highest 2 bars and determine their distance and height ratio, If they far and similar height - show both:\n",
    "    diff_peak = (h1.iloc[:2,1].diff().abs().tolist()[1] / h1.iloc[1,1]) < 0.15\n",
    "    dist_peak = h1.iloc[:2,0].diff().abs().tolist()[1] > 2\n",
    "    \n",
    "    if (diff_peak and dist_peak):\n",
    "        return (h1[0].iloc[:2].values)\n",
    "    else:\n",
    "        return ([h1[0].iloc[0].tolist()])"
   ]
  },
  {
   "cell_type": "code",
   "execution_count": 19,
   "metadata": {},
   "outputs": [],
   "source": [
    "# Use all frequent splits (more than one for a feature)\n",
    "aa1 = aa.apply(get_splits)\n",
    "aa2 = pd.melt( aa1.apply(lambda x: pd.Series(x)).reset_index(),id_vars = 'index').dropna()\n",
    "aa2['var_combined']=aa2['index']+aa2['variable'].astype(str) \n",
    "ttt2 = pd.Series(index=aa2['var_combined'],data=aa2['value'].values)"
   ]
  },
  {
   "cell_type": "code",
   "execution_count": null,
   "metadata": {},
   "outputs": [],
   "source": []
  },
  {
   "cell_type": "code",
   "execution_count": 20,
   "metadata": {},
   "outputs": [
    {
     "data": {
      "text/plain": [
       "count    106.000000\n",
       "mean       0.745283\n",
       "std        0.437772\n",
       "min        0.000000\n",
       "25%        0.250000\n",
       "50%        1.000000\n",
       "75%        1.000000\n",
       "max        1.000000\n",
       "Name: Outcome, dtype: float64"
      ]
     },
     "execution_count": 20,
     "metadata": {},
     "output_type": "execute_result"
    }
   ],
   "source": [
    "f_imp = f_impute_zeros[aa2['index'].tolist()]\n",
    "f_imp.columns = aa2['var_combined']\n",
    "df_01 = pd.concat([(f_imp > ttt2).astype(int),f_impute_zeros[[outcome]]],1)\n",
    "\n",
    "crrs = df_01.corr()[outcome].dropna().drop(outcome)\n",
    "crrs = crrs.sort_values()\n",
    "splits_pos = ttt2.loc[crrs[crrs > 0].index]\n",
    "splits_neg = ttt2.loc[crrs[crrs < 0].index]\n",
    "\n",
    "negs = f_imp[splits_neg.index] < splits_neg\n",
    "poss = f_imp[splits_pos.index] > splits_pos\n",
    "\n",
    "f_impute_zeros.loc[pd.concat([negs,poss],1).sum(1) >5,outcome].describe()"
   ]
  },
  {
   "cell_type": "code",
   "execution_count": 21,
   "metadata": {},
   "outputs": [
    {
     "data": {
      "text/plain": [
       "0.802576024798247"
      ]
     },
     "execution_count": 21,
     "metadata": {},
     "output_type": "execute_result"
    }
   ],
   "source": [
    "roc_auc_score(y_score=pd.concat([negs,poss],1).sum(1),y_true=f_impute_zeros[outcome])"
   ]
  },
  {
   "cell_type": "markdown",
   "metadata": {},
   "source": [
    "aa.apply(lambda x: pd.Series(x)).T.hist(figsize = (10,10))"
   ]
  },
  {
   "cell_type": "code",
   "execution_count": 22,
   "metadata": {},
   "outputs": [
    {
     "name": "stdout",
     "output_type": "stream",
     "text": [
      "Pregnancies                                [7.1]\n",
      "Glucose                           [145.8, 116.2]\n",
      "BloodPressure                             [71.0]\n",
      "SkinThickness                             [30.5]\n",
      "Insulin                                  [35.95]\n",
      "BMI                         [30.439999999999998]\n",
      "DiabetesPedigreeFunction                  [0.58]\n",
      "Age                                       [32.8]\n",
      "NaN                                        [0.1]\n",
      "dtype: object\n"
     ]
    }
   ],
   "source": [
    "aa1 = aa.apply(get_splits)\n",
    "print (aa1)\n",
    "ttt = aa1.apply(lambda x: x[0])"
   ]
  },
  {
   "cell_type": "code",
   "execution_count": 23,
   "metadata": {},
   "outputs": [
    {
     "data": {
      "text/plain": [
       "Glucose                     0.422439\n",
       "BMI                         0.285188\n",
       "Age                         0.298073\n",
       "DiabetesPedigreeFunction    0.158958\n",
       "Pregnancies                 0.228795\n",
       "Insulin                    -0.024217\n",
       "Name: Outcome, dtype: float64"
      ]
     },
     "execution_count": 23,
     "metadata": {},
     "output_type": "execute_result"
    }
   ],
   "source": [
    "df_01 = pd.concat([(f_impute_zeros.drop(outcome,1) > ttt).astype(int),f_impute_zeros[[outcome]]],1)\n",
    "crrs = df_01.corr()[outcome].dropna().drop(outcome)\n",
    "#crrs = crrs[crrs.abs().sort_values().iloc[int(len(crrs)/6):].index] \n",
    "### ** SELECT BEST VARIABLES - that covers 85% (define threshold) of total contribution to model\n",
    "importants = pd.Series(index=f_impute_zeros.drop(outcome,1).columns,data=model.feature_importances_).sort_values(ascending = False)\n",
    "importants = importants[importants.cumsum() <=0.95]\n",
    "crrs = crrs.loc[importants.index]\n",
    "crrs\n"
   ]
  },
  {
   "cell_type": "code",
   "execution_count": 24,
   "metadata": {},
   "outputs": [
    {
     "data": {
      "text/plain": [
       "count    79.000000\n",
       "mean      0.506329\n",
       "std       0.503155\n",
       "min       0.000000\n",
       "25%       0.000000\n",
       "50%       1.000000\n",
       "75%       1.000000\n",
       "max       1.000000\n",
       "Name: Outcome, dtype: float64"
      ]
     },
     "execution_count": 24,
     "metadata": {},
     "output_type": "execute_result"
    }
   ],
   "source": [
    "f_impute_zeros = test  #### Here we use test\n",
    "\n",
    "splits_pos = ttt.loc[crrs[crrs > 0].index]\n",
    "splits_neg = ttt.loc[crrs[crrs < 0].index]\n",
    "\n",
    "negs = f_impute_zeros[splits_neg.index] < splits_neg\n",
    "poss = f_impute_zeros[splits_pos.index] > splits_pos\n",
    "f_impute_zeros.loc[pd.concat([negs,poss],1).sum(1) >2,outcome].describe()\n"
   ]
  },
  {
   "cell_type": "code",
   "execution_count": 25,
   "metadata": {},
   "outputs": [
    {
     "data": {
      "text/plain": [
       "Insulin                                  <35.95\n",
       "Glucose                                  >145.8\n",
       "BMI                         >30.439999999999998\n",
       "Age                                       >32.8\n",
       "DiabetesPedigreeFunction                  >0.58\n",
       "Pregnancies                                >7.1\n",
       "dtype: object"
      ]
     },
     "execution_count": 25,
     "metadata": {},
     "output_type": "execute_result"
    }
   ],
   "source": [
    "splits_neg.apply(lambda x: '<' + str(x)).append(splits_pos.apply(lambda x: '>' + str(x)))"
   ]
  },
  {
   "cell_type": "code",
   "execution_count": 26,
   "metadata": {},
   "outputs": [
    {
     "data": {
      "text/plain": [
       "0.6965456674473068"
      ]
     },
     "execution_count": 26,
     "metadata": {},
     "output_type": "execute_result"
    }
   ],
   "source": [
    "roc_auc_score(y_true=f_impute_zeros[outcome],y_score=pd.concat([negs,poss],1).sum(1))"
   ]
  },
  {
   "cell_type": "code",
   "execution_count": 27,
   "metadata": {},
   "outputs": [
    {
     "data": {
      "text/plain": [
       "0.8117096018735364"
      ]
     },
     "execution_count": 27,
     "metadata": {},
     "output_type": "execute_result"
    }
   ],
   "source": [
    "roc_auc_score(y_true=f_impute_zeros[outcome],y_score=model.predict_proba(f_impute_zeros.drop(outcome,1))[:,1])"
   ]
  },
  {
   "cell_type": "code",
   "execution_count": null,
   "metadata": {},
   "outputs": [],
   "source": []
  },
  {
   "cell_type": "markdown",
   "metadata": {},
   "source": [
    "#### Rough test for directions by split condition - all provide positive direction, thus - no need to changes directions (True to false or False to True)"
   ]
  },
  {
   "cell_type": "code",
   "execution_count": 28,
   "metadata": {
    "scrolled": true
   },
   "outputs": [
    {
     "data": {
      "text/plain": [
       "Pregnancies                 0.108752\n",
       "Glucose                     0.357288\n",
       "BloodPressure               0.127887\n",
       "SkinThickness               0.109116\n",
       "Insulin                    -0.051178\n",
       "BMI                         0.236724\n",
       "DiabetesPedigreeFunction    0.105300\n",
       "Age                         0.163650\n",
       "Outcome                     1.000000\n",
       "Name: Outcome, dtype: float64"
      ]
     },
     "execution_count": 28,
     "metadata": {},
     "output_type": "execute_result"
    }
   ],
   "source": [
    "fof = f_impute_zeros.drop(outcome,1).apply(lambda x: x > ttt[x.name])\n",
    "simple_direction = pd.concat([fof,f_impute_zeros[[outcome]]],1).corr()['Outcome']\n",
    "simple_direction"
   ]
  },
  {
   "cell_type": "code",
   "execution_count": null,
   "metadata": {},
   "outputs": [],
   "source": []
  },
  {
   "cell_type": "code",
   "execution_count": 29,
   "metadata": {},
   "outputs": [],
   "source": [
    "f_impute_zeros = f_impute_zeros1.copy()"
   ]
  },
  {
   "cell_type": "markdown",
   "metadata": {},
   "source": [
    "## Segmentation by class 1 and class 0 paths  - \n",
    "### If feature direction is positive: Take upper split for zero-class and use it with upper sign ('>') to detect 1's.\n",
    "### If feature direction is negative: Take lower split for zero-class and use it with lower sign ('<=') to detect 1's.\n",
    "### Here, all features have positive direction : "
   ]
  },
  {
   "cell_type": "code",
   "execution_count": 30,
   "metadata": {},
   "outputs": [],
   "source": [
    "aa = pd.Series(dict_paths_zero).apply(np.mean).sort_index().reset_index(name='split_val')\n",
    "aa['sign'] = aa['index'].apply(lambda x: '<=' if'<=' in x else '>')\n",
    "aa['feature'] = aa['index'].str.replace('>','').str.replace('<=','')\n",
    "zeros = aa.pivot_table(columns = 'feature',index = 'sign',values = 'split_val',aggfunc = 'sum')"
   ]
  },
  {
   "cell_type": "code",
   "execution_count": 31,
   "metadata": {},
   "outputs": [],
   "source": [
    "dict_zero_lower = f_impute_zeros.drop(outcome,1).apply(lambda x: zeros[x.name].loc['<=']) #lower split\n",
    "dict_zero_higher = f_impute_zeros.drop(outcome,1).apply(lambda x: zeros[x.name].loc['>']) # Upperl split"
   ]
  },
  {
   "cell_type": "markdown",
   "metadata": {},
   "source": [
    "#### General case (positive and negative):"
   ]
  },
  {
   "cell_type": "code",
   "execution_count": 32,
   "metadata": {},
   "outputs": [],
   "source": [
    "pos_direction = f_impute_zeros[dict_zero_higher[simple_direction > 0].index] > dict_zero_higher[simple_direction > 0]\n",
    "neg_direction = f_impute_zeros[dict_zero_higher[simple_direction <= 0].index] <= dict_zero_higher[simple_direction <= 0]\n",
    "gg = pd.concat([neg_direction,pos_direction],1) \n",
    "gg[outcome] = f_impute_zeros[outcome]\n",
    "gg = gg[f_impute_zeros.drop(outcome,1).columns]"
   ]
  },
  {
   "cell_type": "markdown",
   "metadata": {},
   "source": [
    "#### Only positive :"
   ]
  },
  {
   "cell_type": "code",
   "execution_count": 33,
   "metadata": {},
   "outputs": [],
   "source": [
    "gg = f_impute_zeros > dict_zero_higher # Here, sign should be determined\n",
    "                                       # for negative direction feature, use : gg = f_impute_zeros < dict_zero_lower \n",
    "gg[outcome] = f_impute_zeros[outcome]"
   ]
  },
  {
   "cell_type": "code",
   "execution_count": 34,
   "metadata": {},
   "outputs": [
    {
     "data": {
      "text/plain": [
       "(0.20607375271149675, 0.4049234857739439, 461)"
      ]
     },
     "execution_count": 34,
     "metadata": {},
     "output_type": "execute_result"
    }
   ],
   "source": [
    "kk = gg[gg[gg.columns[-7:]].drop(outcome,1).sum(1) <=3 ][outcome]\n",
    "(sum(kk)/len(kk) , kk.std() , len(kk))"
   ]
  },
  {
   "cell_type": "code",
   "execution_count": 35,
   "metadata": {},
   "outputs": [
    {
     "data": {
      "text/plain": [
       "(0.5635179153094463, 0.4967587776524184, 307)"
      ]
     },
     "execution_count": 35,
     "metadata": {},
     "output_type": "execute_result"
    }
   ],
   "source": [
    "kk = gg[gg[gg.columns[-7:]].drop(outcome,1).sum(1) >3 ][outcome]\n",
    "(sum(kk)/len(kk) , kk.std() , len(kk))"
   ]
  },
  {
   "cell_type": "code",
   "execution_count": 36,
   "metadata": {},
   "outputs": [
    {
     "data": {
      "text/plain": [
       "(0.3489583333333333, 768)"
      ]
     },
     "execution_count": 36,
     "metadata": {},
     "output_type": "execute_result"
    }
   ],
   "source": [
    "(gg[outcome].mean() , len(gg))"
   ]
  },
  {
   "cell_type": "code",
   "execution_count": null,
   "metadata": {},
   "outputs": [],
   "source": []
  },
  {
   "cell_type": "code",
   "execution_count": 37,
   "metadata": {},
   "outputs": [
    {
     "data": {
      "text/plain": [
       "0.7796529850746268"
      ]
     },
     "execution_count": 37,
     "metadata": {},
     "output_type": "execute_result"
    }
   ],
   "source": [
    "roc_auc_score(y_true=gg[outcome], y_score=gg.drop(outcome,1).sum(1).values)"
   ]
  },
  {
   "cell_type": "markdown",
   "metadata": {},
   "source": [
    "##### That's not much worse and way simpler..\n"
   ]
  },
  {
   "cell_type": "markdown",
   "metadata": {},
   "source": [
    "### Directions"
   ]
  },
  {
   "cell_type": "code",
   "execution_count": 45,
   "metadata": {},
   "outputs": [],
   "source": [
    "%%capture\n",
    "directions = get_directions(orig_table_=f_impute_zeros.copy(),n_sample=150,outcome='Outcome',model=model)"
   ]
  },
  {
   "cell_type": "code",
   "execution_count": 46,
   "metadata": {},
   "outputs": [
    {
     "data": {
      "text/html": [
       "<style  type=\"text/css\" >\n",
       "    #T_d5fb23e4_9bef_11e9_b7bf_28c63f68a21drow0_col0 {\n",
       "            color:  red;\n",
       "        }    #T_d5fb23e4_9bef_11e9_b7bf_28c63f68a21drow0_col1 {\n",
       "            color:  green;\n",
       "        }    #T_d5fb23e4_9bef_11e9_b7bf_28c63f68a21drow1_col0 {\n",
       "            color:  red;\n",
       "        }    #T_d5fb23e4_9bef_11e9_b7bf_28c63f68a21drow1_col1 {\n",
       "            color:  green;\n",
       "        }    #T_d5fb23e4_9bef_11e9_b7bf_28c63f68a21drow2_col0 {\n",
       "            color:  red;\n",
       "        }    #T_d5fb23e4_9bef_11e9_b7bf_28c63f68a21drow2_col1 {\n",
       "            color:  green;\n",
       "        }    #T_d5fb23e4_9bef_11e9_b7bf_28c63f68a21drow3_col0 {\n",
       "            color:  red;\n",
       "        }    #T_d5fb23e4_9bef_11e9_b7bf_28c63f68a21drow3_col1 {\n",
       "            color:  green;\n",
       "        }    #T_d5fb23e4_9bef_11e9_b7bf_28c63f68a21drow4_col0 {\n",
       "            color:  red;\n",
       "        }    #T_d5fb23e4_9bef_11e9_b7bf_28c63f68a21drow4_col1 {\n",
       "            color:  green;\n",
       "        }    #T_d5fb23e4_9bef_11e9_b7bf_28c63f68a21drow5_col0 {\n",
       "            color:  red;\n",
       "        }    #T_d5fb23e4_9bef_11e9_b7bf_28c63f68a21drow5_col1 {\n",
       "            color:  green;\n",
       "        }    #T_d5fb23e4_9bef_11e9_b7bf_28c63f68a21drow6_col0 {\n",
       "            color:  red;\n",
       "        }    #T_d5fb23e4_9bef_11e9_b7bf_28c63f68a21drow6_col1 {\n",
       "            color:  green;\n",
       "        }    #T_d5fb23e4_9bef_11e9_b7bf_28c63f68a21drow7_col0 {\n",
       "            color:  red;\n",
       "        }    #T_d5fb23e4_9bef_11e9_b7bf_28c63f68a21drow7_col1 {\n",
       "            color:  green;\n",
       "        }</style><table id=\"T_d5fb23e4_9bef_11e9_b7bf_28c63f68a21d\" ><thead>    <tr>        <th class=\"blank level0\" ></th>        <th class=\"col_heading level0 col0\" ><=</th>        <th class=\"col_heading level0 col1\" >></th>    </tr></thead><tbody>\n",
       "                <tr>\n",
       "                        <th id=\"T_d5fb23e4_9bef_11e9_b7bf_28c63f68a21dlevel0_row0\" class=\"row_heading level0 row0\" >Pregnancies</th>\n",
       "                        <td id=\"T_d5fb23e4_9bef_11e9_b7bf_28c63f68a21drow0_col0\" class=\"data row0 col0\" >-0.0453103</td>\n",
       "                        <td id=\"T_d5fb23e4_9bef_11e9_b7bf_28c63f68a21drow0_col1\" class=\"data row0 col1\" >0.0911722</td>\n",
       "            </tr>\n",
       "            <tr>\n",
       "                        <th id=\"T_d5fb23e4_9bef_11e9_b7bf_28c63f68a21dlevel0_row1\" class=\"row_heading level0 row1\" >Glucose</th>\n",
       "                        <td id=\"T_d5fb23e4_9bef_11e9_b7bf_28c63f68a21drow1_col0\" class=\"data row1 col0\" >-0.110296</td>\n",
       "                        <td id=\"T_d5fb23e4_9bef_11e9_b7bf_28c63f68a21drow1_col1\" class=\"data row1 col1\" >0.202584</td>\n",
       "            </tr>\n",
       "            <tr>\n",
       "                        <th id=\"T_d5fb23e4_9bef_11e9_b7bf_28c63f68a21dlevel0_row2\" class=\"row_heading level0 row2\" >BloodPressure</th>\n",
       "                        <td id=\"T_d5fb23e4_9bef_11e9_b7bf_28c63f68a21drow2_col0\" class=\"data row2 col0\" >-0.0330694</td>\n",
       "                        <td id=\"T_d5fb23e4_9bef_11e9_b7bf_28c63f68a21drow2_col1\" class=\"data row2 col1\" >0.0399704</td>\n",
       "            </tr>\n",
       "            <tr>\n",
       "                        <th id=\"T_d5fb23e4_9bef_11e9_b7bf_28c63f68a21dlevel0_row3\" class=\"row_heading level0 row3\" >SkinThickness</th>\n",
       "                        <td id=\"T_d5fb23e4_9bef_11e9_b7bf_28c63f68a21drow3_col0\" class=\"data row3 col0\" >-0.0586794</td>\n",
       "                        <td id=\"T_d5fb23e4_9bef_11e9_b7bf_28c63f68a21drow3_col1\" class=\"data row3 col1\" >0.0679243</td>\n",
       "            </tr>\n",
       "            <tr>\n",
       "                        <th id=\"T_d5fb23e4_9bef_11e9_b7bf_28c63f68a21dlevel0_row4\" class=\"row_heading level0 row4\" >Insulin</th>\n",
       "                        <td id=\"T_d5fb23e4_9bef_11e9_b7bf_28c63f68a21drow4_col0\" class=\"data row4 col0\" >-0.0253911</td>\n",
       "                        <td id=\"T_d5fb23e4_9bef_11e9_b7bf_28c63f68a21drow4_col1\" class=\"data row4 col1\" >0.0594376</td>\n",
       "            </tr>\n",
       "            <tr>\n",
       "                        <th id=\"T_d5fb23e4_9bef_11e9_b7bf_28c63f68a21dlevel0_row5\" class=\"row_heading level0 row5\" >BMI</th>\n",
       "                        <td id=\"T_d5fb23e4_9bef_11e9_b7bf_28c63f68a21drow5_col0\" class=\"data row5 col0\" >-0.128354</td>\n",
       "                        <td id=\"T_d5fb23e4_9bef_11e9_b7bf_28c63f68a21drow5_col1\" class=\"data row5 col1\" >0.0831138</td>\n",
       "            </tr>\n",
       "            <tr>\n",
       "                        <th id=\"T_d5fb23e4_9bef_11e9_b7bf_28c63f68a21dlevel0_row6\" class=\"row_heading level0 row6\" >DiabetesPedigreeFunction</th>\n",
       "                        <td id=\"T_d5fb23e4_9bef_11e9_b7bf_28c63f68a21drow6_col0\" class=\"data row6 col0\" >-0.0596578</td>\n",
       "                        <td id=\"T_d5fb23e4_9bef_11e9_b7bf_28c63f68a21drow6_col1\" class=\"data row6 col1\" >0.0710627</td>\n",
       "            </tr>\n",
       "            <tr>\n",
       "                        <th id=\"T_d5fb23e4_9bef_11e9_b7bf_28c63f68a21dlevel0_row7\" class=\"row_heading level0 row7\" >Age</th>\n",
       "                        <td id=\"T_d5fb23e4_9bef_11e9_b7bf_28c63f68a21drow7_col0\" class=\"data row7 col0\" >-0.10701</td>\n",
       "                        <td id=\"T_d5fb23e4_9bef_11e9_b7bf_28c63f68a21drow7_col1\" class=\"data row7 col1\" >0.123194</td>\n",
       "            </tr>\n",
       "    </tbody></table>"
      ],
      "text/plain": [
       "<pandas.io.formats.style.Styler at 0x7f28c46dddd8>"
      ]
     },
     "execution_count": 46,
     "metadata": {},
     "output_type": "execute_result"
    }
   ],
   "source": [
    "directions.style.applymap(lambda x: 'color: red' if x<0 else  'color: green' )"
   ]
  },
  {
   "cell_type": "markdown",
   "metadata": {},
   "source": [
    "Finally, substract the '<=' direction  from '>' direction. For example, Glucose variable has strong positive/negative effect on the outcome when following a path towards higher/lower Glucose values. Hence, **Their subtraction will provide stronger estimate for the effect of each variable on the outcome's direction**"
   ]
  },
  {
   "cell_type": "code",
   "execution_count": 47,
   "metadata": {},
   "outputs": [
    {
     "data": {
      "text/plain": [
       "Pregnancies                 0.136483\n",
       "Glucose                     0.312880\n",
       "BloodPressure               0.073040\n",
       "SkinThickness               0.126604\n",
       "Insulin                     0.084829\n",
       "BMI                         0.211468\n",
       "DiabetesPedigreeFunction    0.130721\n",
       "Age                         0.230204\n",
       "Name: >, dtype: float64"
      ]
     },
     "execution_count": 47,
     "metadata": {},
     "output_type": "execute_result"
    }
   ],
   "source": [
    "directions.T.diff().iloc[1]"
   ]
  },
  {
   "cell_type": "code",
   "execution_count": null,
   "metadata": {},
   "outputs": [],
   "source": []
  },
  {
   "cell_type": "code",
   "execution_count": null,
   "metadata": {},
   "outputs": [],
   "source": []
  },
  {
   "cell_type": "markdown",
   "metadata": {},
   "source": [
    "#### Compare directions with simple-splits (how much >/<= values correlated with 0/1)"
   ]
  },
  {
   "cell_type": "code",
   "execution_count": 51,
   "metadata": {},
   "outputs": [
    {
     "data": {
      "image/png": "[encoded data removed]",
      "text/plain": [
       "<Figure size 432x288 with 1 Axes>"
      ]
     },
     "metadata": {
      "needs_background": "light"
     },
     "output_type": "display_data"
    },
    {
     "data": {
      "text/html": [
       "<div>\n",
       "<style scoped>\n",
       "    .dataframe tbody tr th:only-of-type {\n",
       "        vertical-align: middle;\n",
       "    }\n",
       "\n",
       "    .dataframe tbody tr th {\n",
       "        vertical-align: top;\n",
       "    }\n",
       "\n",
       "    .dataframe thead th {\n",
       "        text-align: right;\n",
       "    }\n",
       "</style>\n",
       "<table border=\"1\" class=\"dataframe\">\n",
       "  <thead>\n",
       "    <tr style=\"text-align: right;\">\n",
       "      <th></th>\n",
       "      <th>l1</th>\n",
       "      <th>l2</th>\n",
       "    </tr>\n",
       "  </thead>\n",
       "  <tbody>\n",
       "    <tr>\n",
       "      <th>l1</th>\n",
       "      <td>1.000000</td>\n",
       "      <td>0.917339</td>\n",
       "    </tr>\n",
       "    <tr>\n",
       "      <th>l2</th>\n",
       "      <td>0.917339</td>\n",
       "      <td>1.000000</td>\n",
       "    </tr>\n",
       "  </tbody>\n",
       "</table>\n",
       "</div>"
      ],
      "text/plain": [
       "          l1        l2\n",
       "l1  1.000000  0.917339\n",
       "l2  0.917339  1.000000"
      ]
     },
     "execution_count": 51,
     "metadata": {},
     "output_type": "execute_result"
    }
   ],
   "source": [
    "l1= f_impute_zeros.corr()[outcome] \n",
    "l2= directions.T.diff().iloc[1]\n",
    "ll = l1.reset_index(name='l1').set_index('index')\n",
    "ll['l2'] = l2\n",
    "plt.scatter(ll['l1'],ll['l2'])\n",
    "plt.show()\n",
    "ll.corr()"
   ]
  },
  {
   "cell_type": "markdown",
   "metadata": {},
   "source": [
    "### All variables came fairly positive, which means - as value goes higher, it tends to correlate with higher outcome values"
   ]
  },
  {
   "cell_type": "code",
   "execution_count": null,
   "metadata": {},
   "outputs": [],
   "source": []
  },
  {
   "cell_type": "markdown",
   "metadata": {},
   "source": [
    "### Now, let's compare with logistic regression, which provides explicit coefficients:"
   ]
  },
  {
   "cell_type": "code",
   "execution_count": 52,
   "metadata": {},
   "outputs": [],
   "source": [
    "from sklearn.preprocessing import StandardScaler\n",
    "from sklearn.pipeline import make_pipeline"
   ]
  },
  {
   "cell_type": "code",
   "execution_count": 53,
   "metadata": {},
   "outputs": [],
   "source": [
    "# We'll standadize variables in order to get meaningful coefficients: \n",
    "model = make_pipeline(StandardScaler(), linear_model.LogisticRegression())"
   ]
  },
  {
   "cell_type": "code",
   "execution_count": 54,
   "metadata": {},
   "outputs": [
    {
     "name": "stdout",
     "output_type": "stream",
     "text": [
      "0.7760416666666666\n",
      "0.8463134328358208\n"
     ]
    },
    {
     "name": "stderr",
     "output_type": "stream",
     "text": [
      "/home/oz/.local/lib/python3.6/site-packages/sklearn/linear_model/logistic.py:432: FutureWarning: Default solver will be changed to 'lbfgs' in 0.22. Specify a solver to silence this warning.\n",
      "  FutureWarning)\n"
     ]
    }
   ],
   "source": [
    "outcome = 'Outcome'\n",
    "\n",
    "model.fit(f_impute_zeros.drop(outcome,1),f_impute_zeros[outcome])\n",
    "print (model.score(f_impute_zeros.drop(outcome,1),f_impute_zeros[outcome]))\n",
    "print (roc_auc_score(f_impute_zeros[outcome] , model.predict_proba(f_impute_zeros.drop(outcome,1))[:,1]))"
   ]
  },
  {
   "cell_type": "code",
   "execution_count": 55,
   "metadata": {},
   "outputs": [
    {
     "data": {
      "image/png": "[encoded data removed]",
      "text/plain": [
       "<Figure size 432x288 with 1 Axes>"
      ]
     },
     "metadata": {
      "needs_background": "light"
     },
     "output_type": "display_data"
    }
   ],
   "source": [
    "pd.Series(index=f_impute_zeros.drop(outcome,1).columns, data=model.steps[1][1].coef_[0]).plot(kind = 'bar')\n",
    "plt.title('Variables coefficients - Logistic regression')\n",
    "plt.show()"
   ]
  },
  {
   "cell_type": "markdown",
   "metadata": {},
   "source": [
    "### Now, let's compare the \"direction score\" of random forest Vs logistic regression coefficients: "
   ]
  },
  {
   "cell_type": "code",
   "execution_count": 56,
   "metadata": {},
   "outputs": [
    {
     "data": {
      "text/plain": [
       "<matplotlib.collections.PathCollection at 0x7f28c3f6ea20>"
      ]
     },
     "execution_count": 56,
     "metadata": {},
     "output_type": "execute_result"
    },
    {
     "data": {
      "image/png": "[encoded data removed]",
      "text/plain": [
       "<Figure size 432x288 with 1 Axes>"
      ]
     },
     "metadata": {
      "needs_background": "light"
     },
     "output_type": "display_data"
    }
   ],
   "source": [
    "plt.scatter(directions.T.diff().iloc[1], model.steps[1][1].coef_[0])"
   ]
  },
  {
   "cell_type": "code",
   "execution_count": 57,
   "metadata": {},
   "outputs": [
    {
     "data": {
      "text/html": [
       "<div>\n",
       "<style scoped>\n",
       "    .dataframe tbody tr th:only-of-type {\n",
       "        vertical-align: middle;\n",
       "    }\n",
       "\n",
       "    .dataframe tbody tr th {\n",
       "        vertical-align: top;\n",
       "    }\n",
       "\n",
       "    .dataframe thead th {\n",
       "        text-align: right;\n",
       "    }\n",
       "</style>\n",
       "<table border=\"1\" class=\"dataframe\">\n",
       "  <thead>\n",
       "    <tr style=\"text-align: right;\">\n",
       "      <th></th>\n",
       "      <th>&gt;</th>\n",
       "      <th>0</th>\n",
       "    </tr>\n",
       "  </thead>\n",
       "  <tbody>\n",
       "    <tr>\n",
       "      <th>&gt;</th>\n",
       "      <td>1.000000</td>\n",
       "      <td>0.856864</td>\n",
       "    </tr>\n",
       "    <tr>\n",
       "      <th>0</th>\n",
       "      <td>0.856864</td>\n",
       "      <td>1.000000</td>\n",
       "    </tr>\n",
       "  </tbody>\n",
       "</table>\n",
       "</div>"
      ],
      "text/plain": [
       "          >         0\n",
       ">  1.000000  0.856864\n",
       "0  0.856864  1.000000"
      ]
     },
     "execution_count": 57,
     "metadata": {},
     "output_type": "execute_result"
    }
   ],
   "source": [
    "pd.Series(index=directions.T.diff().iloc[1], data=model.steps[1][1].coef_[0]).reset_index().corr()"
   ]
  },
  {
   "cell_type": "code",
   "execution_count": null,
   "metadata": {},
   "outputs": [],
   "source": []
  },
  {
   "cell_type": "code",
   "execution_count": 58,
   "metadata": {},
   "outputs": [
    {
     "data": {
      "text/html": [
       "<div>\n",
       "<style scoped>\n",
       "    .dataframe tbody tr th:only-of-type {\n",
       "        vertical-align: middle;\n",
       "    }\n",
       "\n",
       "    .dataframe tbody tr th {\n",
       "        vertical-align: top;\n",
       "    }\n",
       "\n",
       "    .dataframe thead th {\n",
       "        text-align: right;\n",
       "    }\n",
       "</style>\n",
       "<table border=\"1\" class=\"dataframe\">\n",
       "  <thead>\n",
       "    <tr style=\"text-align: right;\">\n",
       "      <th></th>\n",
       "      <th>l1</th>\n",
       "      <th>l2</th>\n",
       "      <th>logreg</th>\n",
       "    </tr>\n",
       "  </thead>\n",
       "  <tbody>\n",
       "    <tr>\n",
       "      <th>l1</th>\n",
       "      <td>1.000000</td>\n",
       "      <td>0.917339</td>\n",
       "      <td>0.931709</td>\n",
       "    </tr>\n",
       "    <tr>\n",
       "      <th>l2</th>\n",
       "      <td>0.917339</td>\n",
       "      <td>1.000000</td>\n",
       "      <td>0.856864</td>\n",
       "    </tr>\n",
       "    <tr>\n",
       "      <th>logreg</th>\n",
       "      <td>0.931709</td>\n",
       "      <td>0.856864</td>\n",
       "      <td>1.000000</td>\n",
       "    </tr>\n",
       "  </tbody>\n",
       "</table>\n",
       "</div>"
      ],
      "text/plain": [
       "              l1        l2    logreg\n",
       "l1      1.000000  0.917339  0.931709\n",
       "l2      0.917339  1.000000  0.856864\n",
       "logreg  0.931709  0.856864  1.000000"
      ]
     },
     "execution_count": 58,
     "metadata": {},
     "output_type": "execute_result"
    }
   ],
   "source": [
    "ll =ll.drop(outcome)\n",
    "ll['logreg'] = pd.Series(index=f_impute_zeros.drop(outcome,1).columns,data=model.steps[1][1].coef_[0])\n",
    "ll.corr()"
   ]
  },
  {
   "cell_type": "markdown",
   "metadata": {},
   "source": [
    "#### Fiarly correlated !"
   ]
  },
  {
   "cell_type": "markdown",
   "metadata": {},
   "source": [
    "## Conclusions:\n",
    "* We aimed to find a method that can produce equivalent to variables coefficients in logistic/linear regression\n",
    "* For each variable, the suggested method maps the effect of each split on the outcome (higher/lower enrichment of the outcome)\n",
    "* The method was applied on diabetes dataset and compared with logistic regression coefficients.\n",
    "* Interestingly, the method was very correlated with the coefficients achieved by loistic regression. This implies for fairly linear correlations between the variables and the outcome. However, in cases of non-linear relations, it is expected that randomforests will produce very different results and will help to provide additional insights that could not be achieved by the linear models."
   ]
  }
 ],
 "metadata": {
  "kernelspec": {
   "display_name": "Python 3",
   "language": "python",
   "name": "python3"
  },
  "language_info": {
   "codemirror_mode": {
    "name": "ipython",
    "version": 3
   },
   "file_extension": ".py",
   "mimetype": "text/x-python",
   "name": "python",
   "nbconvert_exporter": "python",
   "pygments_lexer": "ipython3",
   "version": "3.6.5"
  }
 },
 "nbformat": 4,
 "nbformat_minor": 2
}
